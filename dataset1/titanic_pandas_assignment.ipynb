{
 "cells": [
  {
   "cell_type": "code",
   "execution_count": 21,
   "id": "bece7f5b",
   "metadata": {},
   "outputs": [
    {
     "name": "stdout",
     "output_type": "stream",
     "text": [
      "data loaded successfully\n",
      "shape: (891, 12)\n",
      "info:\n",
      "<class 'pandas.core.frame.DataFrame'>\n",
      "RangeIndex: 891 entries, 0 to 890\n",
      "Data columns (total 12 columns):\n",
      " #   Column       Non-Null Count  Dtype  \n",
      "---  ------       --------------  -----  \n",
      " 0   PassengerId  891 non-null    int64  \n",
      " 1   Survived     891 non-null    int64  \n",
      " 2   Pclass       891 non-null    int64  \n",
      " 3   Name         891 non-null    object \n",
      " 4   Sex          891 non-null    object \n",
      " 5   Age          714 non-null    float64\n",
      " 6   SibSp        891 non-null    int64  \n",
      " 7   Parch        891 non-null    int64  \n",
      " 8   Ticket       891 non-null    object \n",
      " 9   Fare         891 non-null    float64\n",
      " 10  Cabin        204 non-null    object \n",
      " 11  Embarked     889 non-null    object \n",
      "dtypes: float64(2), int64(5), object(5)\n",
      "memory usage: 83.7+ KB\n"
     ]
    },
    {
     "data": {
      "text/html": [
       "<div>\n",
       "<style scoped>\n",
       "    .dataframe tbody tr th:only-of-type {\n",
       "        vertical-align: middle;\n",
       "    }\n",
       "\n",
       "    .dataframe tbody tr th {\n",
       "        vertical-align: top;\n",
       "    }\n",
       "\n",
       "    .dataframe thead th {\n",
       "        text-align: right;\n",
       "    }\n",
       "</style>\n",
       "<table border=\"1\" class=\"dataframe\">\n",
       "  <thead>\n",
       "    <tr style=\"text-align: right;\">\n",
       "      <th></th>\n",
       "      <th>PassengerId</th>\n",
       "      <th>Survived</th>\n",
       "      <th>Pclass</th>\n",
       "      <th>Name</th>\n",
       "      <th>Sex</th>\n",
       "      <th>Age</th>\n",
       "      <th>SibSp</th>\n",
       "      <th>Parch</th>\n",
       "      <th>Ticket</th>\n",
       "      <th>Fare</th>\n",
       "      <th>Cabin</th>\n",
       "      <th>Embarked</th>\n",
       "    </tr>\n",
       "  </thead>\n",
       "  <tbody>\n",
       "    <tr>\n",
       "      <th>0</th>\n",
       "      <td>1</td>\n",
       "      <td>0</td>\n",
       "      <td>3</td>\n",
       "      <td>Braund, Mr. Owen Harris</td>\n",
       "      <td>male</td>\n",
       "      <td>22.0</td>\n",
       "      <td>1</td>\n",
       "      <td>0</td>\n",
       "      <td>A/5 21171</td>\n",
       "      <td>7.2500</td>\n",
       "      <td>NaN</td>\n",
       "      <td>S</td>\n",
       "    </tr>\n",
       "    <tr>\n",
       "      <th>1</th>\n",
       "      <td>2</td>\n",
       "      <td>1</td>\n",
       "      <td>1</td>\n",
       "      <td>Cumings, Mrs. John Bradley (Florence Briggs Th...</td>\n",
       "      <td>female</td>\n",
       "      <td>38.0</td>\n",
       "      <td>1</td>\n",
       "      <td>0</td>\n",
       "      <td>PC 17599</td>\n",
       "      <td>71.2833</td>\n",
       "      <td>C85</td>\n",
       "      <td>C</td>\n",
       "    </tr>\n",
       "    <tr>\n",
       "      <th>2</th>\n",
       "      <td>3</td>\n",
       "      <td>1</td>\n",
       "      <td>3</td>\n",
       "      <td>Heikkinen, Miss. Laina</td>\n",
       "      <td>female</td>\n",
       "      <td>26.0</td>\n",
       "      <td>0</td>\n",
       "      <td>0</td>\n",
       "      <td>STON/O2. 3101282</td>\n",
       "      <td>7.9250</td>\n",
       "      <td>NaN</td>\n",
       "      <td>S</td>\n",
       "    </tr>\n",
       "    <tr>\n",
       "      <th>3</th>\n",
       "      <td>4</td>\n",
       "      <td>1</td>\n",
       "      <td>1</td>\n",
       "      <td>Futrelle, Mrs. Jacques Heath (Lily May Peel)</td>\n",
       "      <td>female</td>\n",
       "      <td>35.0</td>\n",
       "      <td>1</td>\n",
       "      <td>0</td>\n",
       "      <td>113803</td>\n",
       "      <td>53.1000</td>\n",
       "      <td>C123</td>\n",
       "      <td>S</td>\n",
       "    </tr>\n",
       "    <tr>\n",
       "      <th>4</th>\n",
       "      <td>5</td>\n",
       "      <td>0</td>\n",
       "      <td>3</td>\n",
       "      <td>Allen, Mr. William Henry</td>\n",
       "      <td>male</td>\n",
       "      <td>35.0</td>\n",
       "      <td>0</td>\n",
       "      <td>0</td>\n",
       "      <td>373450</td>\n",
       "      <td>8.0500</td>\n",
       "      <td>NaN</td>\n",
       "      <td>S</td>\n",
       "    </tr>\n",
       "  </tbody>\n",
       "</table>\n",
       "</div>"
      ],
      "text/plain": [
       "   PassengerId  Survived  Pclass  \\\n",
       "0            1         0       3   \n",
       "1            2         1       1   \n",
       "2            3         1       3   \n",
       "3            4         1       1   \n",
       "4            5         0       3   \n",
       "\n",
       "                                                Name     Sex   Age  SibSp  \\\n",
       "0                            Braund, Mr. Owen Harris    male  22.0      1   \n",
       "1  Cumings, Mrs. John Bradley (Florence Briggs Th...  female  38.0      1   \n",
       "2                             Heikkinen, Miss. Laina  female  26.0      0   \n",
       "3       Futrelle, Mrs. Jacques Heath (Lily May Peel)  female  35.0      1   \n",
       "4                           Allen, Mr. William Henry    male  35.0      0   \n",
       "\n",
       "   Parch            Ticket     Fare Cabin Embarked  \n",
       "0      0         A/5 21171   7.2500   NaN        S  \n",
       "1      0          PC 17599  71.2833   C85        C  \n",
       "2      0  STON/O2. 3101282   7.9250   NaN        S  \n",
       "3      0            113803  53.1000  C123        S  \n",
       "4      0            373450   8.0500   NaN        S  "
      ]
     },
     "execution_count": 21,
     "metadata": {},
     "output_type": "execute_result"
    }
   ],
   "source": [
    "# 1. Data Loading\n",
    "\n",
    "import pandas as pd\n",
    "df = pd.read_csv('train.csv')\n",
    "print(\"data loaded successfully\")\n",
    "print(\"shape:\", df.shape)\n",
    "print(\"info:\")\n",
    "df.info()\n",
    "df.head(5)\n"
   ]
  },
  {
   "cell_type": "code",
   "execution_count": 29,
   "id": "22000818",
   "metadata": {},
   "outputs": [
    {
     "name": "stdout",
     "output_type": "stream",
     "text": [
      "                  column    Dtype  Missing  Unique\n",
      "Cabin              Cabin   object      687     147\n",
      "Age                  Age  float64      177      88\n",
      "Embarked        Embarked   object        2       3\n",
      "PassengerId  PassengerId    int64        0     891\n",
      "Name                Name   object        0     891\n",
      "Pclass            Pclass    int64        0       3\n",
      "Survived        Survived    int64        0       2\n",
      "Sex                  Sex   object        0       2\n",
      "Parch              Parch    int64        0       7\n",
      "SibSp              SibSp    int64        0       7\n",
      "Fare                Fare  float64        0     248\n",
      "Ticket            Ticket   object        0     681\n"
     ]
    }
   ],
   "source": [
    "# 2. Column summary\n",
    "\n",
    "column_summary = pd.DataFrame({\n",
    "    'column': df.columns,\n",
    "    'Dtype': df.dtypes,\n",
    "    'Missing': df.isnull().sum(),\n",
    "    'Unique': df.nunique()\n",
    "})\n",
    "summary = column_summary.sort_values(by='Missing', ascending=False)\n",
    "print(summary)"
   ]
  },
  {
   "cell_type": "code",
   "execution_count": 30,
   "id": "110a5e09",
   "metadata": {},
   "outputs": [
    {
     "name": "stdout",
     "output_type": "stream",
     "text": [
      "        Pclass_Count  Pclass_Percentage  Sex_Count  Sex_Percentage  \\\n",
      "3              491.0          55.106622        NaN             NaN   \n",
      "1              216.0          24.242424        NaN             NaN   \n",
      "2              184.0          20.650954        NaN             NaN   \n",
      "male             NaN                NaN      577.0       64.758698   \n",
      "female           NaN                NaN      314.0       35.241302   \n",
      "S                NaN                NaN        NaN             NaN   \n",
      "C                NaN                NaN        NaN             NaN   \n",
      "Q                NaN                NaN        NaN             NaN   \n",
      "\n",
      "        Embarked_Count  Embarked_Percentage  \n",
      "3                  NaN                  NaN  \n",
      "1                  NaN                  NaN  \n",
      "2                  NaN                  NaN  \n",
      "male               NaN                  NaN  \n",
      "female             NaN                  NaN  \n",
      "S                644.0            72.278339  \n",
      "C                168.0            18.855219  \n",
      "Q                 77.0             8.641975  \n"
     ]
    }
   ],
   "source": [
    "# 3. Value counts & proportions\n",
    "\n",
    "columns = ['Pclass', 'Sex', 'Embarked']\n",
    "summary = pd.DataFrame()\n",
    "for col in columns:\n",
    "    counts = df[col].value_counts()\n",
    "    percentages = (counts / len(df) * 100)\n",
    "    temp_df = pd.DataFrame({\n",
    "        f'{col}_Count' : counts,\n",
    "        f'{col}_Percentage' : percentages\n",
    "    })\n",
    "    summary = pd.concat([summary, temp_df], axis=1)\n",
    "print(summary)"
   ]
  },
  {
   "cell_type": "code",
   "execution_count": 31,
   "id": "657e630e",
   "metadata": {},
   "outputs": [
    {
     "name": "stdout",
     "output_type": "stream",
     "text": [
      "     PassengerId  Survived  Pclass  \\\n",
      "258          259         1       1   \n",
      "299          300         1       1   \n",
      "716          717         1       1   \n",
      "380          381         1       1   \n",
      "779          780         1       1   \n",
      "318          319         1       1   \n",
      "856          857         1       1   \n",
      "268          269         1       1   \n",
      "609          610         1       1   \n",
      "195          196         1       1   \n",
      "\n",
      "                                                  Name     Sex   Age  SibSp  \\\n",
      "258                                   Ward, Miss. Anna  female  35.0      0   \n",
      "299    Baxter, Mrs. James (Helene DeLaudeniere Chaput)  female  50.0      0   \n",
      "716                      Endres, Miss. Caroline Louise  female  38.0      0   \n",
      "380                              Bidois, Miss. Rosalie  female  42.0      0   \n",
      "779  Robert, Mrs. Edward Scott (Elisabeth Walton Mc...  female  43.0      0   \n",
      "318                           Wick, Miss. Mary Natalie  female  31.0      0   \n",
      "856         Wick, Mrs. George Dennick (Mary Hitchcock)  female  45.0      1   \n",
      "268      Graham, Mrs. William Thompson (Edith Junkins)  female  58.0      0   \n",
      "609                          Shutes, Miss. Elizabeth W  female  40.0      0   \n",
      "195                               Lurette, Miss. Elise  female  58.0      0   \n",
      "\n",
      "     Parch    Ticket      Fare    Cabin Embarked  \n",
      "258      0  PC 17755  512.3292      NaN        C  \n",
      "299      1  PC 17558  247.5208  B58 B60        C  \n",
      "716      0  PC 17757  227.5250      C45        C  \n",
      "380      0  PC 17757  227.5250      NaN        C  \n",
      "779      1     24160  211.3375       B3        S  \n",
      "318      2     36928  164.8667       C7        S  \n",
      "856      1     36928  164.8667      NaN        S  \n",
      "268      1  PC 17582  153.4625     C125        S  \n",
      "609      0  PC 17582  153.4625     C125        S  \n",
      "195      0  PC 17569  146.5208      B80        C  \n"
     ]
    }
   ],
   "source": [
    "female_firstclass_over30 = df[(df['Sex'] == 'female') & (df['Pclass'] == 1) & (df['Age'] > 30)]\n",
    "female_firstclass_over30 = female_firstclass_over30.sort_values(by='Fare', ascending=False)\n",
    "print(female_firstclass_over30.head(10))"
   ]
  },
  {
   "cell_type": "code",
   "execution_count": 32,
   "id": "8aa93806",
   "metadata": {},
   "outputs": [
    {
     "name": "stdout",
     "output_type": "stream",
     "text": [
      "Age - Mean: 29.70, Median: 28.00, Mode: 24.0\n",
      "Mean Fare per Pclass:\n",
      "Pclass\n",
      "1    84.154687\n",
      "2    20.662183\n",
      "3    13.675550\n",
      "Name: Fare, dtype: float64\n",
      "Overall Survival Rate: 38.38%\n",
      "Survival Rate by Sex:\n",
      "Sex\n",
      "female    0.742038\n",
      "male      0.188908\n",
      "Name: Survived, dtype: float64\n"
     ]
    }
   ],
   "source": [
    "import numpy as np\n",
    "\n",
    "\n",
    "# Age stats (ignoring missing)\n",
    "age_mean = df['Age'].mean()\n",
    "age_median = df['Age'].median()\n",
    "age_mode = df['Age'].mode()[0] if not df['Age'].mode().empty else None\n",
    "print(f\"Age - Mean: {age_mean:.2f}, Median: {age_median:.2f}, Mode: {age_mode}\")\n",
    "\n",
    "\n",
    "# Mean Fare per class\n",
    "fare_by_pclass = df.groupby('Pclass')['Fare'].mean()\n",
    "print(\"Mean Fare per Pclass:\")\n",
    "print(fare_by_pclass)\n",
    "\n",
    "\n",
    "# Survival rates\n",
    "overall_survival = df['Survived'].mean()\n",
    "survival_by_sex = df.groupby('Sex')['Survived'].mean()\n",
    "print(f\"Overall Survival Rate: {overall_survival:.2%}\")\n",
    "print(\"Survival Rate by Sex:\")\n",
    "print(survival_by_sex)\n"
   ]
  },
  {
   "cell_type": "code",
   "execution_count": 33,
   "id": "a86c7685",
   "metadata": {},
   "outputs": [
    {
     "name": "stdout",
     "output_type": "stream",
     "text": [
      "Missing Age before imputation: 177\n",
      "Missing Age_imputed after imputation: 0\n"
     ]
    }
   ],
   "source": [
    "# 6. Missing value imputation\n",
    "\n",
    "print(\"Missing Age before imputation:\", df['Age'].isnull().sum())\n",
    "\n",
    "# Compute median Age by Pclass and Sex\n",
    "age_medians = df.groupby(['Pclass', 'Sex'])['Age'].median()\n",
    "\n",
    "# Create Age_imputed by filling missing with group medians\n",
    "df['Age_imputed'] = df['Age'].fillna(df.apply(lambda row: age_medians.loc[(row['Pclass'], row['Sex'])] if pd.isnull(row['Age']) else row['Age'], axis=1))\n",
    "\n",
    "print(\"Missing Age_imputed after imputation:\", df['Age_imputed'].isnull().sum())"
   ]
  },
  {
   "cell_type": "code",
   "execution_count": 36,
   "id": "987e5466",
   "metadata": {},
   "outputs": [
    {
     "name": "stdout",
     "output_type": "stream",
     "text": [
      "Original data:\n",
      "   Pclass     Sex   Age\n",
      "0       1    male  22.0\n",
      "1       1  female   NaN\n",
      "2       2    male  30.0\n",
      "3       2  female  28.0\n",
      "4       3    male   NaN\n",
      "5       3  female  18.0\n",
      "6       3  female   NaN\n",
      "\n",
      "Median ages by group:\n",
      "Pclass  Sex   \n",
      "1       female     NaN\n",
      "        male      22.0\n",
      "2       female    28.0\n",
      "        male      30.0\n",
      "3       female    18.0\n",
      "        male       NaN\n",
      "Name: Age, dtype: float64\n",
      "\n",
      "Data after median imputation:\n",
      "   Pclass     Sex   Age  Age_imputed\n",
      "0       1    male  22.0         22.0\n",
      "1       1  female   NaN          NaN\n",
      "2       2    male  30.0         30.0\n",
      "3       2  female  28.0         28.0\n",
      "4       3    male   NaN          NaN\n",
      "5       3  female  18.0         18.0\n",
      "6       3  female   NaN         18.0\n"
     ]
    }
   ],
   "source": [
    "# Just for understanding \n",
    "# Example of median imputation based on groups\n",
    "\n",
    "import pandas as pd\n",
    "import numpy as np\n",
    "\n",
    "# Sample data mimicking Age, Pclass, and Sex columns with some missing Age values\n",
    "data = {\n",
    "    'Pclass': [1, 1, 2, 2, 3, 3, 3],\n",
    "    'Sex': ['male', 'female', 'male', 'female', 'male', 'female', 'female'],\n",
    "    'Age': [22, np.nan, 30, 28, np.nan, 18, np.nan]\n",
    "}\n",
    "\n",
    "df_sample = pd.DataFrame(data)\n",
    "\n",
    "print(\"Original data:\")\n",
    "print(df_sample)\n",
    "\n",
    "# Compute median Age grouped by Pclass and Sex\n",
    "age_medians = df_sample.groupby(['Pclass', 'Sex'])['Age'].median()\n",
    "\n",
    "print(\"\\nMedian ages by group:\")\n",
    "print(age_medians)\n",
    "\n",
    "# Impute missing Age with group median\n",
    "df_sample['Age_imputed'] = df_sample.apply(\n",
    "    lambda row: age_medians.loc[(row['Pclass'], row['Sex'])] if pd.isnull(row['Age']) else row['Age'], axis=1)\n",
    "\n",
    "print(\"\\nData after median imputation:\")\n",
    "print(df_sample)\n"
   ]
  },
  {
   "cell_type": "code",
   "execution_count": 37,
   "id": "ea42d1ce",
   "metadata": {},
   "outputs": [
    {
     "name": "stdout",
     "output_type": "stream",
     "text": [
      "Title counts:\n",
      "Title\n",
      "Mr          517\n",
      "Miss        182\n",
      "Mrs         125\n",
      "Master       40\n",
      "Dr            7\n",
      "Rev           6\n",
      "Col           2\n",
      "Mlle          2\n",
      "Major         2\n",
      "Ms            1\n",
      "Mme           1\n",
      "Don           1\n",
      "Lady          1\n",
      "Sir           1\n",
      "Capt          1\n",
      "Countess      1\n",
      "Jonkheer      1\n",
      "Name: count, dtype: int64\n"
     ]
    }
   ],
   "source": [
    "# 7. Feature extraction from text\n",
    "df['Title'] = df['Name'].str.extract(r' ([A-Za-z]+)\\.', expand=False)\n",
    "print(\"Title counts:\")\n",
    "print(df['Title'].value_counts())"
   ]
  },
  {
   "cell_type": "code",
   "execution_count": 38,
   "id": "83811afe",
   "metadata": {},
   "outputs": [
    {
     "name": "stdout",
     "output_type": "stream",
     "text": [
      "Survival rate by IsAlone:\n",
      "IsAlone\n",
      "False    0.505650\n",
      "True     0.303538\n",
      "Name: Survived, dtype: float64\n"
     ]
    }
   ],
   "source": [
    "\n",
    "# 8. Family size & new feature\n",
    "df['FamilySize'] = df['SibSp'] + df['Parch'] + 1\n",
    "df['IsAlone'] = df['FamilySize'] == 1\n",
    "survival_by_isalone = df.groupby('IsAlone')['Survived'].mean()\n",
    "print(\"Survival rate by IsAlone:\")\n",
    "print(survival_by_isalone)"
   ]
  },
  {
   "cell_type": "code",
   "execution_count": 40,
   "id": "6fdc2996",
   "metadata": {},
   "outputs": [
    {
     "name": "stdout",
     "output_type": "stream",
     "text": [
      "Pivot table - Survival rate by Pclass and Sex:\n",
      "Sex       female      male\n",
      "Pclass                    \n",
      "1       0.968085  0.368852\n",
      "2       0.921053  0.157407\n",
      "3       0.500000  0.135447\n",
      "\n",
      "Groupby - Average Fare and Age_imputed by Pclass and Embarked:\n",
      "                       Fare  Age_imputed\n",
      "Pclass Embarked                         \n",
      "1      C         104.718529    37.988235\n",
      "       Q          90.000000    38.500000\n",
      "       S          70.364862    38.271024\n",
      "2      C          25.358335    23.617647\n",
      "       Q          12.350000    38.333333\n",
      "       S          20.327439    30.355671\n",
      "3      C          11.214083    21.983636\n",
      "       Q          11.183393    24.194444\n",
      "       S          14.644083    25.453258\n"
     ]
    }
   ],
   "source": [
    "\n",
    "# 9. Pivot table and multi-index groupby\n",
    "# Pivot table: Survival rate by Pclass (rows) and Sex (columns)\n",
    "pivot_survival = df.pivot_table(values='Survived', index='Pclass', columns='Sex', aggfunc='mean')\n",
    "print(\"Pivot table - Survival rate by Pclass and Sex:\")\n",
    "print(pivot_survival)\n",
    "\n",
    "# Groupby: Average Fare and Age_imputed by Pclass and Embarked\n",
    "groupby_avg = df.groupby(['Pclass', 'Embarked'])[['Fare', 'Age_imputed']].mean()\n",
    "print(\"\\nGroupby - Average Fare and Age_imputed by Pclass and Embarked:\")\n",
    "print(groupby_avg)"
   ]
  },
  {
   "cell_type": "code",
   "execution_count": 41,
   "id": "5eef8bbf",
   "metadata": {},
   "outputs": [
    {
     "name": "stdout",
     "output_type": "stream",
     "text": [
      "Survival rate by CabinDeck:\n",
      "CabinDeck\n",
      "A    0.466667\n",
      "B    0.744681\n",
      "C    0.593220\n",
      "D    0.757576\n",
      "E    0.750000\n",
      "F    0.615385\n",
      "G    0.500000\n",
      "T    0.000000\n",
      "U    0.299854\n",
      "Name: Survived, dtype: float64\n"
     ]
    }
   ],
   "source": [
    "\n",
    "# 10. String cleaning & parsing\n",
    "df['Cabin'] = df['Cabin'].fillna('Unknown')\n",
    "df['CabinDeck'] = df['Cabin'].str[0]\n",
    "survival_by_cabindeck = df.groupby('CabinDeck')['Survived'].mean()\n",
    "print(\"Survival rate by CabinDeck:\")\n",
    "print(survival_by_cabindeck)\n"
   ]
  },
  {
   "cell_type": "code",
   "execution_count": 42,
   "id": "7cf0e78f",
   "metadata": {},
   "outputs": [
    {
     "name": "stdout",
     "output_type": "stream",
     "text": [
      "Top 10 tickets by TicketCount:\n",
      "           Ticket  TicketCount\n",
      "80           1601            7\n",
      "568      CA. 2343            7\n",
      "333        347082            7\n",
      "566       CA 2144            6\n",
      "249       3101295            6\n",
      "337        347088            6\n",
      "480        382652            5\n",
      "621  S.O.C. 14879            5\n",
      "395        349909            4\n",
      "194          2666            4\n"
     ]
    }
   ],
   "source": [
    "\n",
    "# 11. Advanced joins / merges\n",
    "# Create lookup DataFrame with Ticket frequency\n",
    "ticket_lookup = df.groupby('Ticket').size().reset_index(name='TicketCount')\n",
    "\n",
    "# Merge back into the main DataFrame\n",
    "df = df.merge(ticket_lookup, on='Ticket', how='left')\n",
    "\n",
    "# Show the top 10 tickets by TicketCount\n",
    "print(\"Top 10 tickets by TicketCount:\")\n",
    "print(ticket_lookup.sort_values(by='TicketCount', ascending=False).head(10))"
   ]
  },
  {
   "cell_type": "code",
   "execution_count": 43,
   "id": "ce3ce919",
   "metadata": {},
   "outputs": [
    {
     "name": "stdout",
     "output_type": "stream",
     "text": [
      "99th percentile Fare: 249.00622000000035\n",
      "Outliers flagged and replaced.\n"
     ]
    }
   ],
   "source": [
    "# 12. Outlier detection & handling\n",
    "fare_99 = df['Fare'].quantile(0.99)\n",
    "df['Fare_outlier'] = df['Fare'] > fare_99\n",
    "df['Fare'] = df['Fare'].where(df['Fare'] <= fare_99, fare_99)\n",
    "print(f\"99th percentile Fare: {fare_99}\")\n",
    "print(\"Outliers flagged and replaced.\")"
   ]
  },
  {
   "cell_type": "code",
   "execution_count": 44,
   "id": "fce7be19",
   "metadata": {},
   "outputs": [
    {
     "name": "stdout",
     "output_type": "stream",
     "text": [
      "Survival rate by AgeGroup and Sex:\n",
      "AgeGroup  Sex   \n",
      "Adult     female    0.774194\n",
      "          male      0.184066\n",
      "Child     female    0.593750\n",
      "          male      0.567568\n",
      "Teen      female    0.790698\n",
      "          male      0.096154\n",
      "Unknown   female    0.679245\n",
      "          male      0.129032\n",
      "Name: Survived, dtype: float64\n"
     ]
    }
   ],
   "source": [
    "# 13. Complex aggregation with apply\n",
    "import pandas as pd\n",
    "\n",
    "# Create AgeGroup column\n",
    "def categorize_age(age):\n",
    "    if pd.isnull(age):\n",
    "        return 'Unknown'\n",
    "    elif age <= 12:\n",
    "        return 'Child'\n",
    "    elif age <= 19:\n",
    "        return 'Teen'\n",
    "    else:\n",
    "        return 'Adult'\n",
    "\n",
    "df['AgeGroup'] = df['Age'].apply(categorize_age)\n",
    "\n",
    "# Show survival rate by AgeGroup and Sex\n",
    "survival_by_agegroup_sex = df.groupby(['AgeGroup', 'Sex'])['Survived'].mean()\n",
    "print(\"Survival rate by AgeGroup and Sex:\")\n",
    "print(survival_by_agegroup_sex)"
   ]
  },
  {
   "cell_type": "code",
   "execution_count": 45,
   "id": "ec105132",
   "metadata": {},
   "outputs": [
    {
     "name": "stdout",
     "output_type": "stream",
     "text": [
      "df_clean shape: (891, 17)\n",
      "df_clean info:\n",
      "<class 'pandas.core.frame.DataFrame'>\n",
      "RangeIndex: 891 entries, 0 to 890\n",
      "Data columns (total 17 columns):\n",
      " #   Column        Non-Null Count  Dtype  \n",
      "---  ------        --------------  -----  \n",
      " 0   PassengerId   891 non-null    int64  \n",
      " 1   Survived      891 non-null    int64  \n",
      " 2   Pclass        891 non-null    int64  \n",
      " 3   Sex           891 non-null    int64  \n",
      " 4   Age           891 non-null    float64\n",
      " 5   SibSp         891 non-null    int64  \n",
      " 6   Parch         891 non-null    int64  \n",
      " 7   Fare          891 non-null    float64\n",
      " 8   Embarked      891 non-null    object \n",
      " 9   Age_imputed   891 non-null    float64\n",
      " 10  Title         891 non-null    object \n",
      " 11  FamilySize    891 non-null    int64  \n",
      " 12  IsAlone       891 non-null    bool   \n",
      " 13  CabinDeck     891 non-null    object \n",
      " 14  TicketCount   891 non-null    int64  \n",
      " 15  Fare_outlier  891 non-null    bool   \n",
      " 16  AgeGroup      891 non-null    object \n",
      "dtypes: bool(2), float64(3), int64(8), object(4)\n",
      "memory usage: 106.3+ KB\n",
      "None\n"
     ]
    }
   ],
   "source": [
    "# Add this as a new cell\n",
    "\n",
    "# 14. Multi-step pipeline\n",
    "# Fill missing Embarked with mode\n",
    "df['Embarked'] = df['Embarked'].fillna(df['Embarked'].mode()[0])\n",
    "\n",
    "# Impute Age using Pclass + Sex median\n",
    "age_medians = df.groupby(['Pclass', 'Sex'])['Age'].median()\n",
    "df['Age'] = df['Age'].fillna(df.apply(lambda row: age_medians.loc[(row['Pclass'], row['Sex'])] if pd.isnull(row['Age']) else row['Age'], axis=1))\n",
    "\n",
    "# Encode Sex to numeric\n",
    "df['Sex'] = df['Sex'].map({'male': 0, 'female': 1})\n",
    "\n",
    "# Drop unused columns\n",
    "df.drop(['Name', 'Ticket', 'Cabin'], axis=1, inplace=True)\n",
    "\n",
    "# Output the cleaned DataFrame\n",
    "df_clean = df.copy()\n",
    "print(\"df_clean shape:\", df_clean.shape)\n",
    "print(\"df_clean info:\")\n",
    "print(df_clean.info())"
   ]
  },
  {
   "cell_type": "code",
   "execution_count": 46,
   "id": "db3d2649",
   "metadata": {},
   "outputs": [
    {
     "name": "stdout",
     "output_type": "stream",
     "text": [
      "Survival rate by Pclass, Sex, and AgeGroup:\n",
      "AgeGroup       Adult     Child      Teen   Unknown\n",
      "Pclass Sex                                        \n",
      "1      0    0.382979  1.000000  0.250000  0.238095\n",
      "       1    0.971831  0.000000  1.000000  1.000000\n",
      "2      0    0.062500  1.000000  0.100000  0.222222\n",
      "       1    0.896552  1.000000  1.000000  1.000000\n",
      "3      0    0.136842  0.360000  0.078947  0.095745\n",
      "       1    0.403509  0.478261  0.590909  0.595238\n",
      "\n",
      "Pivot table - Survival rate by Pclass, AgeGroup, and Sex:\n",
      "Sex                     0         1\n",
      "Pclass AgeGroup                    \n",
      "1      Adult     0.382979  0.971831\n",
      "       Child     1.000000  0.000000\n",
      "       Teen      0.250000  1.000000\n",
      "       Unknown   0.238095  1.000000\n",
      "2      Adult     0.062500  0.896552\n",
      "       Child     1.000000  1.000000\n",
      "       Teen      0.100000  1.000000\n",
      "       Unknown   0.222222  1.000000\n",
      "3      Adult     0.136842  0.403509\n",
      "       Child     0.360000  0.478261\n",
      "       Teen      0.078947  0.590909\n",
      "       Unknown   0.095745  0.595238\n"
     ]
    }
   ],
   "source": [
    "# Add this as a new cell\n",
    "\n",
    "# 15. Challenge analysis / storytelling\n",
    "\n",
    "# ## Analysis: Which combination of features (at most 3) is most associated with survival?\n",
    "# \n",
    "# I chose `Pclass`, `Sex`, and `AgeGroup` as they showed strong correlations in prior tasks (e.g., higher survival for females in 1st class, lower for adults).\n",
    "# \n",
    "# ### Key Insights:\n",
    "# - Females in 1st class have the highest survival rates.\n",
    "# - Males in 3rd class have the lowest.\n",
    "# - Children and teens show higher survival than adults, especially in higher classes.\n",
    "# \n",
    "# ### Code and Results:\n",
    "\n",
    "# Survival rate by Pclass, Sex, and AgeGroup\n",
    "survival_analysis = df.groupby(['Pclass', 'Sex', 'AgeGroup'])['Survived'].mean().unstack().fillna(0)\n",
    "print(\"Survival rate by Pclass, Sex, and AgeGroup:\")\n",
    "print(survival_analysis)\n",
    "\n",
    "# Pivot table for clearer view\n",
    "pivot_survival_full = df.pivot_table(values='Survived', index=['Pclass', 'AgeGroup'], columns='Sex', aggfunc='mean')\n",
    "print(\"\\nPivot table - Survival rate by Pclass, AgeGroup, and Sex:\")\n",
    "print(pivot_survival_full)\n",
    "\n",
    "# ## Conclusion:\n",
    "# The combination of `Pclass`, `Sex`, and `AgeGroup` is most associated with survival. Females in 1st class (especially adults) had ~97% survival, while males in 3rd class (adults) had ~13%. This suggests class and gender were key factors, with age playing a role for children."
   ]
  }
 ],
 "metadata": {
  "kernelspec": {
   "display_name": "Python 3",
   "language": "python",
   "name": "python3"
  },
  "language_info": {
   "codemirror_mode": {
    "name": "ipython",
    "version": 3
   },
   "file_extension": ".py",
   "mimetype": "text/x-python",
   "name": "python",
   "nbconvert_exporter": "python",
   "pygments_lexer": "ipython3",
   "version": "3.13.5"
  }
 },
 "nbformat": 4,
 "nbformat_minor": 5
}
