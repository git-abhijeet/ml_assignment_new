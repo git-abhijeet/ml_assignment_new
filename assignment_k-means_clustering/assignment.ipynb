{
 "cells": [
  {
   "cell_type": "markdown",
   "id": "bc9cd88a",
   "metadata": {},
   "source": [
    "# K-Means Clustering: Mall Customer Segmentation\n",
    "\n",
    "This notebook implements the full K-means segmentation pipeline for the Mall Customers dataset.\n",
    "\n",
    "Objectives:\n",
    "- Perform EDA and preprocessing\n",
    "- Determine optimal number of clusters (k)\n",
    "- Train K-means and validate clusters\n",
    "- Visualize and profile segments\n",
    "- Provide actionable business recommendations\n",
    "\n",
    "Dataset: `Mall_Customers.csv` (200 rows, 5 columns)"
   ]
  },
  {
   "cell_type": "code",
   "execution_count": null,
   "id": "7faf4b50",
   "metadata": {},
   "outputs": [],
   "source": [
    "# Imports & Setup\n",
    "import os\n",
    "import json\n",
    "import numpy as np\n",
    "import pandas as pd\n",
    "import matplotlib.pyplot as plt\n",
    "import seaborn as sns\n",
    "from pathlib import Path\n",
    "\n",
    "from sklearn.preprocessing import StandardScaler\n",
    "from sklearn.cluster import KMeans\n",
    "from sklearn.metrics import silhouette_score, davies_bouldin_score, calinski_harabasz_score\n",
    "from sklearn.decomposition import PCA\n",
    "\n",
    "# Plot settings\n",
    "sns.set(style=\"whitegrid\", context=\"notebook\")\n",
    "plt.rcParams[\"figure.figsize\"] = (8, 5)\n",
    "\n",
    "# Reproducibility\n",
    "RANDOM_STATE = 42\n",
    "np.random.seed(RANDOM_STATE)\n",
    "\n",
    "# Data path\n",
    "DATA_PATH = Path(\"Mall_Customers.csv\")\n",
    "assert DATA_PATH.exists(), f\"Dataset not found at {DATA_PATH}. Please place Mall_Customers.csv in the same folder as this notebook.\""
   ]
  },
  {
   "cell_type": "code",
   "execution_count": null,
   "id": "d0ff1e77",
   "metadata": {},
   "outputs": [],
   "source": [
    "# Outputs setup\n",
    "from pathlib import Path\n",
    "OUTPUTS_DIR = Path(\"outputs\")\n",
    "OUTPUTS_DIR.mkdir(exist_ok=True)\n",
    "print(f\"Outputs will be saved to: {OUTPUTS_DIR.resolve()}\")"
   ]
  },
  {
   "cell_type": "code",
   "execution_count": null,
   "id": "104a7cb7",
   "metadata": {},
   "outputs": [],
   "source": [
    "# Load data\n",
    "raw = pd.read_csv(DATA_PATH)\n",
    "print(raw.shape)\n",
    "raw.head()"
   ]
  },
  {
   "cell_type": "code",
   "execution_count": null,
   "id": "c5b6fced",
   "metadata": {},
   "outputs": [],
   "source": [
    "# Initial EDA: structure and missing\n",
    "raw.info()\n",
    "print(\"\\nMissing values per column:\\n\", raw.isna().sum())\n",
    "print(\"\\nDuplicate rows:\", raw.duplicated().sum())"
   ]
  },
  {
   "cell_type": "code",
   "execution_count": null,
   "id": "1bef35f1",
   "metadata": {},
   "outputs": [],
   "source": [
    "# Summary statistics for numeric columns\n",
    "raw.describe(include='all')"
   ]
  },
  {
   "cell_type": "code",
   "execution_count": null,
   "id": "117ae282",
   "metadata": {},
   "outputs": [],
   "source": [
    "# EDA: distributions for numeric features\n",
    "num_cols = [c for c in raw.columns if raw[c].dtype != 'object' and c != 'CustomerID']\n",
    "fig, axes = plt.subplots(1, len(num_cols), figsize=(5*len(num_cols), 4))\n",
    "if len(num_cols) == 1:\n",
    "    axes = [axes]\n",
    "for ax, col in zip(axes, num_cols):\n",
    "    sns.histplot(raw[col], kde=True, ax=ax, color=\"#4C78A8\")\n",
    "    ax.set_title(f\"Distribution: {col}\")\n",
    "plt.tight_layout()\n",
    "plt.show()"
   ]
  },
  {
   "cell_type": "code",
   "execution_count": null,
   "id": "4a0dff75",
   "metadata": {},
   "outputs": [],
   "source": [
    "# Gender balance and encoding plan\n",
    "if 'Gender' in raw.columns:\n",
    "    display(raw['Gender'].value_counts())\n",
    "else:\n",
    "    print(\"Gender column not found; proceeding without it.\")"
   ]
  },
  {
   "cell_type": "code",
   "execution_count": null,
   "id": "08c81e71",
   "metadata": {},
   "outputs": [],
   "source": [
    "# Correlation heatmap for numeric features\n",
    "corr = raw[num_cols].corr(numeric_only=True)\n",
    "plt.figure(figsize=(6,4))\n",
    "sns.heatmap(corr, annot=True, cmap=\"Blues\", fmt=\".2f\")\n",
    "plt.title(\"Correlation Heatmap (Numeric Features)\")\n",
    "plt.show()"
   ]
  },
  {
   "cell_type": "markdown",
   "id": "ca9950bf",
   "metadata": {},
   "source": [
    "## Preprocessing\n",
    "- Encode `Gender` to numeric\n",
    "- Select features for clustering\n",
    "- Standardize features"
   ]
  },
  {
   "cell_type": "code",
   "execution_count": null,
   "id": "6b45b0f4",
   "metadata": {},
   "outputs": [],
   "source": [
    "# Encode Gender (Male=1, Female=0) if available\n",
    "work = raw.copy()\n",
    "if 'Gender' in work.columns:\n",
    "    work['Gender'] = work['Gender'].map({'Male': 1, 'Female': 0})\n",
    "\n",
    "# Feature selection rationale: Age, Annual Income (k$), Spending Score (1-100)\n",
    "# Optionally include Gender if helpful; exclude CustomerID\n",
    "feature_cols = []\n",
    "for c in ['Age', 'Annual Income (k$)', 'Spending Score (1-100)']:\n",
    "    if c in work.columns:\n",
    "        feature_cols.append(c)\n",
    "if 'Gender' in work.columns:\n",
    "    feature_cols.append('Gender')\n",
    "print(\"Using features:\", feature_cols)\n",
    "\n",
    "X = work[feature_cols]\n",
    "scaler = StandardScaler()\n",
    "X_scaled = scaler.fit_transform(X)\n",
    "print(\"Scaled shape:\", X_scaled.shape)\n",
    "\n",
    "# Save scaler\n",
    "import joblib\n",
    "joblib.dump(scaler, OUTPUTS_DIR / 'scaler.joblib')"
   ]
  },
  {
   "cell_type": "markdown",
   "id": "287b6654",
   "metadata": {},
   "source": [
    "## Optimal K Selection\n",
    "We evaluate k in 2–10 using Elbow (WCSS), Silhouette, Davies–Bouldin, and Calinski–Harabasz scores."
   ]
  },
  {
   "cell_type": "code",
   "execution_count": null,
   "id": "d33fe102",
   "metadata": {},
   "outputs": [],
   "source": [
    "# Compute metrics across k values\n",
    "results = []\n",
    "ks = list(range(2, 11))\n",
    "for k in ks:\n",
    "    km = KMeans(n_clusters=k, init=\"k-means++\", n_init=\"auto\", random_state=RANDOM_STATE)\n",
    "    labels = km.fit_predict(X_scaled)\n",
    "    sil = silhouette_score(X_scaled, labels)\n",
    "    db = davies_bouldin_score(X_scaled, labels)\n",
    "    ch = calinski_harabasz_score(X_scaled, labels)\n",
    "    results.append({\n",
    "        'k': k,\n",
    "        'inertia': km.inertia_,\n",
    "        'silhouette': sil,\n",
    "        'davies_bouldin': db,\n",
    "        'calinski_harabasz': ch\n",
    "    })\n",
    "\n",
    "res_df = pd.DataFrame(results)\n",
    "res_df"
   ]
  },
  {
   "cell_type": "code",
   "execution_count": null,
   "id": "4f36b9d9",
   "metadata": {},
   "outputs": [],
   "source": [
    "# Plot Elbow and Silhouette\n",
    "fig, axes = plt.subplots(1, 3, figsize=(16,4))\n",
    "axes[0].plot(res_df['k'], res_df['inertia'], marker='o')\n",
    "axes[0].set_title('Elbow: Inertia vs k')\n",
    "axes[0].set_xlabel('k'); axes[0].set_ylabel('Inertia (WCSS)')\n",
    "\n",
    "axes[1].plot(res_df['k'], res_df['silhouette'], marker='o', color='#2ca02c')\n",
    "axes[1].set_title('Silhouette vs k')\n",
    "axes[1].set_xlabel('k'); axes[1].set_ylabel('Silhouette Score')\n",
    "\n",
    "axes[2].plot(res_df['k'], res_df['davies_bouldin'], marker='o', color='#d62728')\n",
    "axes[2].set_title('Davies-Bouldin vs k (lower is better)')\n",
    "axes[2].set_xlabel('k'); axes[2].set_ylabel('DB Index')\n",
    "\n",
    "plt.tight_layout()\n",
    "plt.show()\n",
    "\n",
    "# Candidate k suggestion: highest silhouette, elbow knee, and low DB\n",
    "best_k_sil = int(res_df.loc[res_df['silhouette'].idxmax(), 'k'])\n",
    "print(\"Best k by silhouette:\", best_k_sil)"
   ]
  },
  {
   "cell_type": "markdown",
   "id": "386c8e3b",
   "metadata": {},
   "source": [
    "## Train Final K-Means\n",
    "We will use the selected k (you may override `FINAL_K` if business constraints suggest a different choice)."
   ]
  },
  {
   "cell_type": "code",
   "execution_count": null,
   "id": "79daa497",
   "metadata": {},
   "outputs": [],
   "source": [
    "# Choose final k\n",
    "FINAL_K = best_k_sil  # you may set e.g., 5 based on elbow/interpretability\n",
    "print(\"Using FINAL_K =\", FINAL_K)\n",
    "\n",
    "kmeans = KMeans(n_clusters=int(FINAL_K), init=\"k-means++\", n_init=\"auto\", random_state=RANDOM_STATE)\n",
    "labels = kmeans.fit_predict(X_scaled)\n",
    "centroids_scaled = kmeans.cluster_centers_\n",
    "\n",
    "# Evaluate final model\n",
    "sil_final = silhouette_score(X_scaled, labels)\n",
    "ch_final = calinski_harabasz_score(X_scaled, labels)\n",
    "db_final = davies_bouldin_score(X_scaled, labels)\n",
    "\n",
    "print({\n",
    "    'silhouette': round(sil_final, 4),\n",
    "    'calinski_harabasz': round(ch_final, 2),\n",
    "    'davies_bouldin': round(db_final, 4),\n",
    "    'inertia': round(kmeans.inertia_, 2)\n",
    "})\n",
    "\n",
    "# Save model\n",
    "import joblib\n",
    "joblib.dump(kmeans, OUTPUTS_DIR / f'kmeans_k{FINAL_K}.joblib')"
   ]
  },
  {
   "cell_type": "code",
   "execution_count": null,
   "id": "cb7e5dde",
   "metadata": {},
   "outputs": [],
   "source": [
    "# Attach labels and inverse-transform centroids for interpretation\n",
    "work_labeled = work.copy()\n",
    "work_labeled['Cluster'] = labels\n",
    "\n",
    "centroids = pd.DataFrame(scaler.inverse_transform(centroids_scaled), columns=feature_cols)\n",
    "centroids['Cluster'] = range(int(FINAL_K))\n",
    "\n",
    "# Cluster sizes\n",
    "cluster_sizes = work_labeled['Cluster'].value_counts().sort_index()\n",
    "print(\"Cluster sizes:\\n\", cluster_sizes)\n",
    "\n",
    "# Save outputs\n",
    "work_labeled.to_csv(OUTPUTS_DIR / 'customers_with_clusters.csv', index=False)\n",
    "centroids.to_csv(OUTPUTS_DIR / 'cluster_centroids.csv', index=False)\n",
    "centroids"
   ]
  },
  {
   "cell_type": "markdown",
   "id": "4d407bf4",
   "metadata": {},
   "source": [
    "## Visualization\n",
    "- 2D scatterplots on key feature pairs\n",
    "- PCA 2D and optional 3D\n",
    "- Box plots per feature by cluster"
   ]
  },
  {
   "cell_type": "code",
   "execution_count": null,
   "id": "2c4ab3a8",
   "metadata": {},
   "outputs": [],
   "source": [
    "# 2D scatterplots on selected feature pairs\n",
    "pairs = []\n",
    "for a in ['Age', 'Annual Income (k$)', 'Spending Score (1-100)']:\n",
    "    for b in ['Age', 'Annual Income (k$)', 'Spending Score (1-100)']:\n",
    "        if a in work_labeled.columns and b in work_labeled.columns and a < b:\n",
    "            pairs.append((a,b))\n",
    "\n",
    "palette = sns.color_palette(\"tab10\", int(FINAL_K))\n",
    "for a, b in pairs:\n",
    "    plt.figure(figsize=(6,4))\n",
    "    sns.scatterplot(data=work_labeled, x=a, y=b, hue='Cluster', palette=palette, alpha=0.8)\n",
    "    # plot centroids\n",
    "    if a in centroids.columns and b in centroids.columns:\n",
    "        plt.scatter(centroids[a], centroids[b], s=200, c='black', marker='X', label='Centroid')\n",
    "    plt.title(f\"Clusters on {a} vs {b}\")\n",
    "    plt.legend()\n",
    "    plt.tight_layout()\n",
    "    plt.show()"
   ]
  },
  {
   "cell_type": "code",
   "execution_count": null,
   "id": "6c4d546b",
   "metadata": {},
   "outputs": [],
   "source": [
    "# PCA 2D (and optional 3D)\n",
    "pca2 = PCA(n_components=2, random_state=RANDOM_STATE)\n",
    "X_pca2 = pca2.fit_transform(X_scaled)\n",
    "\n",
    "plt.figure(figsize=(7,5))\n",
    "sns.scatterplot(x=X_pca2[:,0], y=X_pca2[:,1], hue=labels, palette=palette, alpha=0.8)\n",
    "centroids_pca2 = pca2.transform(centroids_scaled)\n",
    "plt.scatter(centroids_pca2[:,0], centroids_pca2[:,1], s=200, c='black', marker='X', label='Centroid')\n",
    "plt.title(\"PCA 2D Projection of Clusters\")\n",
    "plt.legend(title='Cluster')\n",
    "plt.tight_layout()\n",
    "plt.show()"
   ]
  },
  {
   "cell_type": "code",
   "execution_count": null,
   "id": "885adcd2",
   "metadata": {},
   "outputs": [],
   "source": [
    "# Box plots per feature by cluster\n",
    "for col in feature_cols:\n",
    "    plt.figure(figsize=(6,4))\n",
    "    sns.boxplot(data=work_labeled, x='Cluster', y=col, palette=palette)\n",
    "    plt.title(f\"{col} by Cluster\")\n",
    "    plt.tight_layout()\n",
    "    plt.show()"
   ]
  },
  {
   "cell_type": "markdown",
   "id": "9e39acd8",
   "metadata": {},
   "source": [
    "## Cluster Profiling & Business Insights\n",
    "We summarize per-cluster statistics and create segment personas."
   ]
  },
  {
   "cell_type": "code",
   "execution_count": null,
   "id": "22e3b7c6",
   "metadata": {},
   "outputs": [],
   "source": [
    "# Per-cluster summary stats\n",
    "profile = work_labeled.groupby('Cluster')[feature_cols].agg(['mean','median','count']).round(2)\n",
    "profile"
   ]
  },
  {
   "cell_type": "markdown",
   "id": "bd317a4f",
   "metadata": {},
   "source": [
    "## Recommendations\n",
    "Concrete actions per segment based on centroid interpretation and profiles."
   ]
  },
  {
   "cell_type": "code",
   "execution_count": null,
   "id": "233e97aa",
   "metadata": {},
   "outputs": [],
   "source": [
    "# Draft recommendation framework based on profiles\n",
    "segments = []\n",
    "for cid, row in centroids.sort_values('Cluster').iterrows():\n",
    "    desc = {\n",
    "        'Cluster': int(row['Cluster']),\n",
    "        'Persona': None,\n",
    "        'Message': None,\n",
    "        'Offers': None,\n",
    "        'Channels': None\n",
    "    }\n",
    "    age = row.get('Age', np.nan)\n",
    "    inc = row.get('Annual Income (k$)', np.nan)\n",
    "    score = row.get('Spending Score (1-100)', np.nan)\n",
    "\n",
    "    if pd.notna(score) and score >= np.nanpercentile(centroids['Spending Score (1-100)'], 60):\n",
    "        desc['Persona'] = 'High-spend Enthusiasts'\n",
    "        desc['Message'] = 'Exclusive previews and new arrivals'\n",
    "        desc['Offers'] = 'VIP tiers, early access, bundles'\n",
    "        desc['Channels'] = 'App push, email, in-store concierge'\n",
    "    elif pd.notna(inc) and inc >= np.nanpercentile(centroids['Annual Income (k$)'], 60):\n",
    "        desc['Persona'] = 'Affluent Occasional Buyers'\n",
    "        desc['Message'] = 'Quality and premium experiences'\n",
    "        desc['Offers'] = 'Premium brand bundles, white-glove service'\n",
    "        desc['Channels'] = 'Email, social retargeting, SMS reminders'\n",
    "    else:\n",
    "        desc['Persona'] = 'Value Seekers'\n",
    "        desc['Message'] = 'Best value for money'\n",
    "        desc['Offers'] = 'Discounts, loyalty points, price-match'\n",
    "        desc['Channels'] = 'SMS, email, in-app coupons'\n",
    "\n",
    "    segments.append(desc)\n",
    "\n",
    "rec_df = pd.DataFrame(segments)\n",
    "rec_df"
   ]
  },
  {
   "cell_type": "markdown",
   "id": "400e0b17",
   "metadata": {},
   "source": [
    "## Final Notes\n",
    "- Chosen k justification references elbow, silhouette, and DB indices.\n",
    "- Save artifacts and outputs for reproducibility."
   ]
  },
  {
   "cell_type": "code",
   "execution_count": null,
   "id": "337e66a5",
   "metadata": {},
   "outputs": [],
   "source": [
    "# Optional: PCA 3D projection\n",
    "try:\n",
    "    from mpl_toolkits.mplot3d import Axes3D  # noqa: F401\n",
    "    pca3 = PCA(n_components=3, random_state=RANDOM_STATE)\n",
    "    X_pca3 = pca3.fit_transform(X_scaled)\n",
    "\n",
    "    fig = plt.figure(figsize=(7,6))\n",
    "    ax = fig.add_subplot(111, projection='3d')\n",
    "    scatter = ax.scatter(X_pca3[:,0], X_pca3[:,1], X_pca3[:,2], c=labels, cmap='tab10', alpha=0.8)\n",
    "    centroids_pca3 = pca3.transform(centroids_scaled)\n",
    "    ax.scatter(centroids_pca3[:,0], centroids_pca3[:,1], centroids_pca3[:,2], c='black', s=200, marker='X')\n",
    "    ax.set_title('PCA 3D Projection of Clusters')\n",
    "    plt.tight_layout()\n",
    "    plt.show()\n",
    "except Exception as e:\n",
    "    print('3D plot could not be generated:', e)"
   ]
  },
  {
   "cell_type": "code",
   "execution_count": null,
   "id": "f8318723",
   "metadata": {},
   "outputs": [],
   "source": [
    "# Utility display import for EDA outputs\n",
    "from IPython.display import display"
   ]
  },
  {
   "cell_type": "code",
   "execution_count": null,
   "id": "6fb82296",
   "metadata": {},
   "outputs": [],
   "source": [
    "# Box/Violin plots by cluster for each feature\n",
    "plot_features = [c for c in ['Age','Annual Income (k$)','Spending Score (1-100)','Gender'] if c in work_labeled.columns]\n",
    "for col in plot_features:\n",
    "    plt.figure(figsize=(6,4))\n",
    "    sns.boxplot(data=work_labeled, x='Cluster', y=col, palette=\"tab10\")\n",
    "    plt.title(f\"Boxplot of {col} by Cluster\")\n",
    "    plt.tight_layout()\n",
    "    plt.show()\n",
    "\n",
    "    plt.figure(figsize=(6,4))\n",
    "    sns.violinplot(data=work_labeled, x='Cluster', y=col, palette=\"tab10\", inner='quartile')\n",
    "    plt.title(f\"Violin plot of {col} by Cluster\")\n",
    "    plt.tight_layout()\n",
    "    plt.show()"
   ]
  }
 ],
 "metadata": {
  "kernelspec": {
   "display_name": "abhi (3.12.3)",
   "language": "python",
   "name": "python3"
  },
  "language_info": {
   "name": "python",
   "version": "3.12.3"
  }
 },
 "nbformat": 4,
 "nbformat_minor": 5
}
